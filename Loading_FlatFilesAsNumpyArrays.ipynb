{
 "cells": [
  {
   "cell_type": "code",
   "execution_count": 1,
   "metadata": {
    "scrolled": true
   },
   "outputs": [
    {
     "name": "stdout",
     "output_type": "stream",
     "text": [
      " Volume in drive C is OS\n",
      " Volume Serial Number is 4A61-1FEC\n",
      "\n",
      " Directory of C:\\Users\\lavan\\Desktop\\MIS_COURSEWORK\\jupyter notebook\n",
      "\n",
      "04/23/2019  05:38 PM    <DIR>          .\n",
      "04/23/2019  05:38 PM    <DIR>          ..\n",
      "04/22/2019  03:23 PM    <DIR>          .ipynb_checkpoints\n",
      "04/09/2019  02:24 PM             2,267 airline.dta\n",
      "04/04/2019  01:21 PM            11,416 airport.xlsx\n",
      "04/01/2019  05:20 PM               451 bread.txt\n",
      "04/23/2019  05:38 PM             8,818 Connecting_to_a_database.ipynb\n",
      "04/03/2019  06:19 PM             2,363 hanks.txt\n",
      "04/04/2019  11:31 AM               272 hanks_modified.txt\n",
      "03/31/2018  06:05 PM             3,587 HousePrices.csv\n",
      "04/12/2019  05:37 PM             7,548 Importing_Excel_Spreadsheets.ipynb\n",
      "04/09/2019  03:21 PM             2,035 Importing_Matlab_Files.ipynb\n",
      "04/09/2019  02:11 PM             1,494 Importing_SASFiles.ipynb\n",
      "04/09/2019  02:26 PM             1,407 Importing_STATA_Files_As_DataFrame.ipynb\n",
      "10/02/2017  03:50 PM           131,072 inventory.sas7bdat\n",
      "04/09/2019  02:12 PM             3,101 Load_text_Files.ipynb\n",
      "04/04/2019  11:43 AM            16,511 Loading_FlatFile_AS_A_PandasDataframe.ipynb\n",
      "04/01/2019  06:27 PM            23,784 Loading_FlatFilesAsNumpyArrays.ipynb\n",
      "12/01/2015  01:07 PM         1,577,190 Matfile.mat\n",
      "04/19/2019  02:49 PM             5,952 Opening_and_Reading_FlatFiles_From_Web.ipynb\n",
      "04/22/2019  10:25 AM            68,592 Performing_HTTPrequests_in_Python.ipynb\n",
      "04/04/2019  01:34 PM               797 Pickled Files\n",
      "03/12/2019  01:59 PM                51 Test_Text_File.txt\n",
      "04/10/2019  05:39 PM             3,187 Untitled.ipynb\n",
      "04/22/2019  03:25 PM               555 Untitled1.ipynb\n",
      "04/11/2019  11:22 AM           264,426 winequality-white.csv\n",
      "              23 File(s)      2,136,876 bytes\n",
      "               3 Dir(s)  310,179,864,576 bytes free\n"
     ]
    }
   ],
   "source": [
    "ls"
   ]
  },
  {
   "cell_type": "code",
   "execution_count": 2,
   "metadata": {},
   "outputs": [],
   "source": [
    "import numpy as np"
   ]
  },
  {
   "cell_type": "code",
   "execution_count": 3,
   "metadata": {},
   "outputs": [
    {
     "ename": "ValueError",
     "evalue": "could not convert string to float: 'dough'",
     "output_type": "error",
     "traceback": [
      "\u001b[1;31m---------------------------------------------------------------------------\u001b[0m",
      "\u001b[1;31mValueError\u001b[0m                                Traceback (most recent call last)",
      "\u001b[1;32m<ipython-input-3-5799be0ad873>\u001b[0m in \u001b[0;36m<module>\u001b[1;34m\u001b[0m\n\u001b[0;32m      1\u001b[0m \u001b[0mfile\u001b[0m\u001b[1;33m=\u001b[0m\u001b[1;34m'bread.txt'\u001b[0m\u001b[1;33m\u001b[0m\u001b[1;33m\u001b[0m\u001b[0m\n\u001b[1;32m----> 2\u001b[1;33m \u001b[0mdata\u001b[0m\u001b[1;33m=\u001b[0m\u001b[0mnp\u001b[0m\u001b[1;33m.\u001b[0m\u001b[0mloadtxt\u001b[0m\u001b[1;33m(\u001b[0m\u001b[0mfile\u001b[0m\u001b[1;33m,\u001b[0m\u001b[0mdelimiter\u001b[0m\u001b[1;33m=\u001b[0m\u001b[1;34m','\u001b[0m\u001b[1;33m)\u001b[0m \u001b[1;31m#as the first two rows are headers which are of string datatype, and the first column is string ass well so throws value error\u001b[0m\u001b[1;33m\u001b[0m\u001b[1;33m\u001b[0m\u001b[0m\n\u001b[0m\u001b[0;32m      3\u001b[0m \u001b[0mprint\u001b[0m\u001b[1;33m(\u001b[0m\u001b[0mdata\u001b[0m\u001b[1;33m)\u001b[0m\u001b[1;33m\u001b[0m\u001b[1;33m\u001b[0m\u001b[0m\n",
      "\u001b[1;32m~\\Anaconda3\\lib\\site-packages\\numpy\\lib\\npyio.py\u001b[0m in \u001b[0;36mloadtxt\u001b[1;34m(fname, dtype, comments, delimiter, converters, skiprows, usecols, unpack, ndmin, encoding, max_rows)\u001b[0m\n\u001b[0;32m   1132\u001b[0m         \u001b[1;31m# converting the data\u001b[0m\u001b[1;33m\u001b[0m\u001b[1;33m\u001b[0m\u001b[1;33m\u001b[0m\u001b[0m\n\u001b[0;32m   1133\u001b[0m         \u001b[0mX\u001b[0m \u001b[1;33m=\u001b[0m \u001b[1;32mNone\u001b[0m\u001b[1;33m\u001b[0m\u001b[1;33m\u001b[0m\u001b[0m\n\u001b[1;32m-> 1134\u001b[1;33m         \u001b[1;32mfor\u001b[0m \u001b[0mx\u001b[0m \u001b[1;32min\u001b[0m \u001b[0mread_data\u001b[0m\u001b[1;33m(\u001b[0m\u001b[0m_loadtxt_chunksize\u001b[0m\u001b[1;33m)\u001b[0m\u001b[1;33m:\u001b[0m\u001b[1;33m\u001b[0m\u001b[1;33m\u001b[0m\u001b[0m\n\u001b[0m\u001b[0;32m   1135\u001b[0m             \u001b[1;32mif\u001b[0m \u001b[0mX\u001b[0m \u001b[1;32mis\u001b[0m \u001b[1;32mNone\u001b[0m\u001b[1;33m:\u001b[0m\u001b[1;33m\u001b[0m\u001b[1;33m\u001b[0m\u001b[0m\n\u001b[0;32m   1136\u001b[0m                 \u001b[0mX\u001b[0m \u001b[1;33m=\u001b[0m \u001b[0mnp\u001b[0m\u001b[1;33m.\u001b[0m\u001b[0marray\u001b[0m\u001b[1;33m(\u001b[0m\u001b[0mx\u001b[0m\u001b[1;33m,\u001b[0m \u001b[0mdtype\u001b[0m\u001b[1;33m)\u001b[0m\u001b[1;33m\u001b[0m\u001b[1;33m\u001b[0m\u001b[0m\n",
      "\u001b[1;32m~\\Anaconda3\\lib\\site-packages\\numpy\\lib\\npyio.py\u001b[0m in \u001b[0;36mread_data\u001b[1;34m(chunk_size)\u001b[0m\n\u001b[0;32m   1059\u001b[0m \u001b[1;33m\u001b[0m\u001b[0m\n\u001b[0;32m   1060\u001b[0m             \u001b[1;31m# Convert each value according to its column and store\u001b[0m\u001b[1;33m\u001b[0m\u001b[1;33m\u001b[0m\u001b[1;33m\u001b[0m\u001b[0m\n\u001b[1;32m-> 1061\u001b[1;33m             \u001b[0mitems\u001b[0m \u001b[1;33m=\u001b[0m \u001b[1;33m[\u001b[0m\u001b[0mconv\u001b[0m\u001b[1;33m(\u001b[0m\u001b[0mval\u001b[0m\u001b[1;33m)\u001b[0m \u001b[1;32mfor\u001b[0m \u001b[1;33m(\u001b[0m\u001b[0mconv\u001b[0m\u001b[1;33m,\u001b[0m \u001b[0mval\u001b[0m\u001b[1;33m)\u001b[0m \u001b[1;32min\u001b[0m \u001b[0mzip\u001b[0m\u001b[1;33m(\u001b[0m\u001b[0mconverters\u001b[0m\u001b[1;33m,\u001b[0m \u001b[0mvals\u001b[0m\u001b[1;33m)\u001b[0m\u001b[1;33m]\u001b[0m\u001b[1;33m\u001b[0m\u001b[1;33m\u001b[0m\u001b[0m\n\u001b[0m\u001b[0;32m   1062\u001b[0m \u001b[1;33m\u001b[0m\u001b[0m\n\u001b[0;32m   1063\u001b[0m             \u001b[1;31m# Then pack it according to the dtype's nesting\u001b[0m\u001b[1;33m\u001b[0m\u001b[1;33m\u001b[0m\u001b[1;33m\u001b[0m\u001b[0m\n",
      "\u001b[1;32m~\\Anaconda3\\lib\\site-packages\\numpy\\lib\\npyio.py\u001b[0m in \u001b[0;36m<listcomp>\u001b[1;34m(.0)\u001b[0m\n\u001b[0;32m   1059\u001b[0m \u001b[1;33m\u001b[0m\u001b[0m\n\u001b[0;32m   1060\u001b[0m             \u001b[1;31m# Convert each value according to its column and store\u001b[0m\u001b[1;33m\u001b[0m\u001b[1;33m\u001b[0m\u001b[1;33m\u001b[0m\u001b[0m\n\u001b[1;32m-> 1061\u001b[1;33m             \u001b[0mitems\u001b[0m \u001b[1;33m=\u001b[0m \u001b[1;33m[\u001b[0m\u001b[0mconv\u001b[0m\u001b[1;33m(\u001b[0m\u001b[0mval\u001b[0m\u001b[1;33m)\u001b[0m \u001b[1;32mfor\u001b[0m \u001b[1;33m(\u001b[0m\u001b[0mconv\u001b[0m\u001b[1;33m,\u001b[0m \u001b[0mval\u001b[0m\u001b[1;33m)\u001b[0m \u001b[1;32min\u001b[0m \u001b[0mzip\u001b[0m\u001b[1;33m(\u001b[0m\u001b[0mconverters\u001b[0m\u001b[1;33m,\u001b[0m \u001b[0mvals\u001b[0m\u001b[1;33m)\u001b[0m\u001b[1;33m]\u001b[0m\u001b[1;33m\u001b[0m\u001b[1;33m\u001b[0m\u001b[0m\n\u001b[0m\u001b[0;32m   1062\u001b[0m \u001b[1;33m\u001b[0m\u001b[0m\n\u001b[0;32m   1063\u001b[0m             \u001b[1;31m# Then pack it according to the dtype's nesting\u001b[0m\u001b[1;33m\u001b[0m\u001b[1;33m\u001b[0m\u001b[1;33m\u001b[0m\u001b[0m\n",
      "\u001b[1;32m~\\Anaconda3\\lib\\site-packages\\numpy\\lib\\npyio.py\u001b[0m in \u001b[0;36mfloatconv\u001b[1;34m(x)\u001b[0m\n\u001b[0;32m    766\u001b[0m         \u001b[1;32mif\u001b[0m \u001b[1;34m'0x'\u001b[0m \u001b[1;32min\u001b[0m \u001b[0mx\u001b[0m\u001b[1;33m:\u001b[0m\u001b[1;33m\u001b[0m\u001b[1;33m\u001b[0m\u001b[0m\n\u001b[0;32m    767\u001b[0m             \u001b[1;32mreturn\u001b[0m \u001b[0mfloat\u001b[0m\u001b[1;33m.\u001b[0m\u001b[0mfromhex\u001b[0m\u001b[1;33m(\u001b[0m\u001b[0mx\u001b[0m\u001b[1;33m)\u001b[0m\u001b[1;33m\u001b[0m\u001b[1;33m\u001b[0m\u001b[0m\n\u001b[1;32m--> 768\u001b[1;33m         \u001b[1;32mreturn\u001b[0m \u001b[0mfloat\u001b[0m\u001b[1;33m(\u001b[0m\u001b[0mx\u001b[0m\u001b[1;33m)\u001b[0m\u001b[1;33m\u001b[0m\u001b[1;33m\u001b[0m\u001b[0m\n\u001b[0m\u001b[0;32m    769\u001b[0m \u001b[1;33m\u001b[0m\u001b[0m\n\u001b[0;32m    770\u001b[0m     \u001b[0mtyp\u001b[0m \u001b[1;33m=\u001b[0m \u001b[0mdtype\u001b[0m\u001b[1;33m.\u001b[0m\u001b[0mtype\u001b[0m\u001b[1;33m\u001b[0m\u001b[1;33m\u001b[0m\u001b[0m\n",
      "\u001b[1;31mValueError\u001b[0m: could not convert string to float: 'dough'"
     ]
    }
   ],
   "source": [
    "file='bread.txt'\n",
    "data=np.loadtxt(file,delimiter=',') #as the first two rows are headers which are of string datatype, \n",
    "#and the first column is string ass well so throws value error\n",
    "print(data)"
   ]
  },
  {
   "cell_type": "code",
   "execution_count": 4,
   "metadata": {},
   "outputs": [
    {
     "ename": "ValueError",
     "evalue": "could not convert string to float: 'French'",
     "output_type": "error",
     "traceback": [
      "\u001b[1;31m---------------------------------------------------------------------------\u001b[0m",
      "\u001b[1;31mValueError\u001b[0m                                Traceback (most recent call last)",
      "\u001b[1;32m<ipython-input-4-8314930bccab>\u001b[0m in \u001b[0;36m<module>\u001b[1;34m\u001b[0m\n\u001b[1;32m----> 1\u001b[1;33m \u001b[0mdata\u001b[0m\u001b[1;33m=\u001b[0m\u001b[0mnp\u001b[0m\u001b[1;33m.\u001b[0m\u001b[0mloadtxt\u001b[0m\u001b[1;33m(\u001b[0m\u001b[0mfile\u001b[0m\u001b[1;33m,\u001b[0m\u001b[0mdelimiter\u001b[0m\u001b[1;33m=\u001b[0m\u001b[1;34m','\u001b[0m\u001b[1;33m,\u001b[0m\u001b[0mskiprows\u001b[0m\u001b[1;33m=\u001b[0m\u001b[1;36m2\u001b[0m\u001b[1;33m)\u001b[0m\u001b[1;33m\u001b[0m\u001b[1;33m\u001b[0m\u001b[0m\n\u001b[0m\u001b[0;32m      2\u001b[0m \u001b[1;31m# we are skipping the first two rows which are headers, but since the first column is of string data type and the rest are numbers it throws value error\u001b[0m\u001b[1;33m\u001b[0m\u001b[1;33m\u001b[0m\u001b[1;33m\u001b[0m\u001b[0m\n\u001b[0;32m      3\u001b[0m \u001b[0mprint\u001b[0m\u001b[1;33m(\u001b[0m\u001b[0mdata\u001b[0m\u001b[1;33m)\u001b[0m\u001b[1;33m\u001b[0m\u001b[1;33m\u001b[0m\u001b[0m\n",
      "\u001b[1;32m~\\Anaconda3\\lib\\site-packages\\numpy\\lib\\npyio.py\u001b[0m in \u001b[0;36mloadtxt\u001b[1;34m(fname, dtype, comments, delimiter, converters, skiprows, usecols, unpack, ndmin, encoding, max_rows)\u001b[0m\n\u001b[0;32m   1132\u001b[0m         \u001b[1;31m# converting the data\u001b[0m\u001b[1;33m\u001b[0m\u001b[1;33m\u001b[0m\u001b[1;33m\u001b[0m\u001b[0m\n\u001b[0;32m   1133\u001b[0m         \u001b[0mX\u001b[0m \u001b[1;33m=\u001b[0m \u001b[1;32mNone\u001b[0m\u001b[1;33m\u001b[0m\u001b[1;33m\u001b[0m\u001b[0m\n\u001b[1;32m-> 1134\u001b[1;33m         \u001b[1;32mfor\u001b[0m \u001b[0mx\u001b[0m \u001b[1;32min\u001b[0m \u001b[0mread_data\u001b[0m\u001b[1;33m(\u001b[0m\u001b[0m_loadtxt_chunksize\u001b[0m\u001b[1;33m)\u001b[0m\u001b[1;33m:\u001b[0m\u001b[1;33m\u001b[0m\u001b[1;33m\u001b[0m\u001b[0m\n\u001b[0m\u001b[0;32m   1135\u001b[0m             \u001b[1;32mif\u001b[0m \u001b[0mX\u001b[0m \u001b[1;32mis\u001b[0m \u001b[1;32mNone\u001b[0m\u001b[1;33m:\u001b[0m\u001b[1;33m\u001b[0m\u001b[1;33m\u001b[0m\u001b[0m\n\u001b[0;32m   1136\u001b[0m                 \u001b[0mX\u001b[0m \u001b[1;33m=\u001b[0m \u001b[0mnp\u001b[0m\u001b[1;33m.\u001b[0m\u001b[0marray\u001b[0m\u001b[1;33m(\u001b[0m\u001b[0mx\u001b[0m\u001b[1;33m,\u001b[0m \u001b[0mdtype\u001b[0m\u001b[1;33m)\u001b[0m\u001b[1;33m\u001b[0m\u001b[1;33m\u001b[0m\u001b[0m\n",
      "\u001b[1;32m~\\Anaconda3\\lib\\site-packages\\numpy\\lib\\npyio.py\u001b[0m in \u001b[0;36mread_data\u001b[1;34m(chunk_size)\u001b[0m\n\u001b[0;32m   1059\u001b[0m \u001b[1;33m\u001b[0m\u001b[0m\n\u001b[0;32m   1060\u001b[0m             \u001b[1;31m# Convert each value according to its column and store\u001b[0m\u001b[1;33m\u001b[0m\u001b[1;33m\u001b[0m\u001b[1;33m\u001b[0m\u001b[0m\n\u001b[1;32m-> 1061\u001b[1;33m             \u001b[0mitems\u001b[0m \u001b[1;33m=\u001b[0m \u001b[1;33m[\u001b[0m\u001b[0mconv\u001b[0m\u001b[1;33m(\u001b[0m\u001b[0mval\u001b[0m\u001b[1;33m)\u001b[0m \u001b[1;32mfor\u001b[0m \u001b[1;33m(\u001b[0m\u001b[0mconv\u001b[0m\u001b[1;33m,\u001b[0m \u001b[0mval\u001b[0m\u001b[1;33m)\u001b[0m \u001b[1;32min\u001b[0m \u001b[0mzip\u001b[0m\u001b[1;33m(\u001b[0m\u001b[0mconverters\u001b[0m\u001b[1;33m,\u001b[0m \u001b[0mvals\u001b[0m\u001b[1;33m)\u001b[0m\u001b[1;33m]\u001b[0m\u001b[1;33m\u001b[0m\u001b[1;33m\u001b[0m\u001b[0m\n\u001b[0m\u001b[0;32m   1062\u001b[0m \u001b[1;33m\u001b[0m\u001b[0m\n\u001b[0;32m   1063\u001b[0m             \u001b[1;31m# Then pack it according to the dtype's nesting\u001b[0m\u001b[1;33m\u001b[0m\u001b[1;33m\u001b[0m\u001b[1;33m\u001b[0m\u001b[0m\n",
      "\u001b[1;32m~\\Anaconda3\\lib\\site-packages\\numpy\\lib\\npyio.py\u001b[0m in \u001b[0;36m<listcomp>\u001b[1;34m(.0)\u001b[0m\n\u001b[0;32m   1059\u001b[0m \u001b[1;33m\u001b[0m\u001b[0m\n\u001b[0;32m   1060\u001b[0m             \u001b[1;31m# Convert each value according to its column and store\u001b[0m\u001b[1;33m\u001b[0m\u001b[1;33m\u001b[0m\u001b[1;33m\u001b[0m\u001b[0m\n\u001b[1;32m-> 1061\u001b[1;33m             \u001b[0mitems\u001b[0m \u001b[1;33m=\u001b[0m \u001b[1;33m[\u001b[0m\u001b[0mconv\u001b[0m\u001b[1;33m(\u001b[0m\u001b[0mval\u001b[0m\u001b[1;33m)\u001b[0m \u001b[1;32mfor\u001b[0m \u001b[1;33m(\u001b[0m\u001b[0mconv\u001b[0m\u001b[1;33m,\u001b[0m \u001b[0mval\u001b[0m\u001b[1;33m)\u001b[0m \u001b[1;32min\u001b[0m \u001b[0mzip\u001b[0m\u001b[1;33m(\u001b[0m\u001b[0mconverters\u001b[0m\u001b[1;33m,\u001b[0m \u001b[0mvals\u001b[0m\u001b[1;33m)\u001b[0m\u001b[1;33m]\u001b[0m\u001b[1;33m\u001b[0m\u001b[1;33m\u001b[0m\u001b[0m\n\u001b[0m\u001b[0;32m   1062\u001b[0m \u001b[1;33m\u001b[0m\u001b[0m\n\u001b[0;32m   1063\u001b[0m             \u001b[1;31m# Then pack it according to the dtype's nesting\u001b[0m\u001b[1;33m\u001b[0m\u001b[1;33m\u001b[0m\u001b[1;33m\u001b[0m\u001b[0m\n",
      "\u001b[1;32m~\\Anaconda3\\lib\\site-packages\\numpy\\lib\\npyio.py\u001b[0m in \u001b[0;36mfloatconv\u001b[1;34m(x)\u001b[0m\n\u001b[0;32m    766\u001b[0m         \u001b[1;32mif\u001b[0m \u001b[1;34m'0x'\u001b[0m \u001b[1;32min\u001b[0m \u001b[0mx\u001b[0m\u001b[1;33m:\u001b[0m\u001b[1;33m\u001b[0m\u001b[1;33m\u001b[0m\u001b[0m\n\u001b[0;32m    767\u001b[0m             \u001b[1;32mreturn\u001b[0m \u001b[0mfloat\u001b[0m\u001b[1;33m.\u001b[0m\u001b[0mfromhex\u001b[0m\u001b[1;33m(\u001b[0m\u001b[0mx\u001b[0m\u001b[1;33m)\u001b[0m\u001b[1;33m\u001b[0m\u001b[1;33m\u001b[0m\u001b[0m\n\u001b[1;32m--> 768\u001b[1;33m         \u001b[1;32mreturn\u001b[0m \u001b[0mfloat\u001b[0m\u001b[1;33m(\u001b[0m\u001b[0mx\u001b[0m\u001b[1;33m)\u001b[0m\u001b[1;33m\u001b[0m\u001b[1;33m\u001b[0m\u001b[0m\n\u001b[0m\u001b[0;32m    769\u001b[0m \u001b[1;33m\u001b[0m\u001b[0m\n\u001b[0;32m    770\u001b[0m     \u001b[0mtyp\u001b[0m \u001b[1;33m=\u001b[0m \u001b[0mdtype\u001b[0m\u001b[1;33m.\u001b[0m\u001b[0mtype\u001b[0m\u001b[1;33m\u001b[0m\u001b[1;33m\u001b[0m\u001b[0m\n",
      "\u001b[1;31mValueError\u001b[0m: could not convert string to float: 'French'"
     ]
    }
   ],
   "source": [
    "data=np.loadtxt(file,delimiter=',',skiprows=2) \n",
    "# we are skipping the first two rows which are headers, but since the first column is of string data type and the rest are numbers it throws value error\n",
    "print(data)"
   ]
  },
  {
   "cell_type": "code",
   "execution_count": 5,
   "metadata": {},
   "outputs": [
    {
     "name": "stdout",
     "output_type": "stream",
     "text": [
      "[['dough' 'water' 'oil' 'sugar' 'salt' 'dry milk' 'flour' 'yeast' 'wheat'\n",
      "  'oregano' 'eggs']\n",
      " ['type' '(cup)' '(tblsp)' '(tblsp)' '(tsp)' '(tblsp)' '(cup)' '(tsp)'\n",
      "  '(cup)' '(tsp)' '(count)']\n",
      " ['white' '1' '2' '2' '1.25' '1.5' '3' '2' '0' '0' '0']\n",
      " ['French' '1.125' '0' '1.5' '1' '0' '3.5' '2' '0' '0' '0']\n",
      " ['wheat' '1.5' '2' '2' '2' '0' '3' '2.25' '0.75' '0' '0']\n",
      " ['Italian' '1.125' '2' '3' '1.5' '2' '3.25' '1.5' '0' '2' '0']\n",
      " ['pizza' '0.75' '1' '1' '0.5' '1' '2.25' '1' '0' '0' '0']\n",
      " ['bagel' '1' '0' '1.5' '1' '0' '3' '2.25' '0' '0' '0']\n",
      " ['pretzel' '1.25' '1' '2' '1' '0' '3.5' '3' '0' '0' '1']\n",
      " ['egg' '0.75' '1.5' '2' '1.5' '3' '3' '2.25' '0' '0' '1']\n",
      " ['milk' '1' '2' '0.5' '1.5' '5.33' '3' '1.75' '0' '0' '0']\n",
      " ['foccacia' '1' '5.33' '2' '1' '0' '3' '1.5' '0' '1' '0']\n",
      " ['rolls' '0.75' '3' '3' '1' '0' '3.25' '1.5' '0' '0' '1']]\n"
     ]
    }
   ],
   "source": [
    "data=np.loadtxt(file,delimiter=',',dtype=str) \n",
    "#explicitly specified the datatype as str so even the numbers are converted to stringsi.e., the entire file is of samedata type\n",
    "print(data)"
   ]
  },
  {
   "cell_type": "code",
   "execution_count": 6,
   "metadata": {},
   "outputs": [
    {
     "name": "stdout",
     "output_type": "stream",
     "text": [
      "[[1.    2.    2.   ]\n",
      " [1.125 0.    1.5  ]\n",
      " [1.5   2.    2.   ]\n",
      " [1.125 2.    3.   ]\n",
      " [0.75  1.    1.   ]\n",
      " [1.    0.    1.5  ]\n",
      " [1.25  1.    2.   ]\n",
      " [0.75  1.5   2.   ]\n",
      " [1.    2.    0.5  ]\n",
      " [1.    5.33  2.   ]\n",
      " [0.75  3.    3.   ]]\n"
     ]
    }
   ],
   "source": [
    "data=np.loadtxt(file,delimiter=',',skiprows=2,usecols=(1,2,3)) \n",
    "#here we didnt use dtype as str but have skipped the headers and skipped the first column as well by using usecols to select 2,3 and 4th columns\n",
    "print(data)"
   ]
  },
  {
   "cell_type": "markdown",
   "metadata": {},
   "source": [
    "The other way down to work on flat files containing columns of mixed datatypes without typecasting the entire data is by using np.genfromtxt() function by specifying dtype as none which would automatically detect the datatype of the columns."
   ]
  },
  {
   "cell_type": "code",
   "execution_count": 10,
   "metadata": {},
   "outputs": [
    {
     "name": "stderr",
     "output_type": "stream",
     "text": [
      "C:\\Users\\lavan\\Anaconda3\\lib\\site-packages\\ipykernel_launcher.py:1: VisibleDeprecationWarning: Reading unicode strings without specifying the encoding argument is deprecated. Set the encoding, use None for the system default.\n",
      "  \"\"\"Entry point for launching an IPython kernel.\n"
     ]
    }
   ],
   "source": [
    "data1=np.genfromtxt(file,delimiter=',', names=True,dtype=None) #names tells us there is a header"
   ]
  },
  {
   "cell_type": "code",
   "execution_count": 11,
   "metadata": {},
   "outputs": [
    {
     "name": "stdout",
     "output_type": "stream",
     "text": [
      "[(b'white', 1.   , 2.  , 2. , 1.25, 1.5 , 3.  , 2.  , 0.  , 0, 0)\n",
      " (b'French', 1.125, 0.  , 1.5, 1.  , 0.  , 3.5 , 2.  , 0.  , 0, 0)\n",
      " (b'wheat', 1.5  , 2.  , 2. , 2.  , 0.  , 3.  , 2.25, 0.75, 0, 0)\n",
      " (b'Italian', 1.125, 2.  , 3. , 1.5 , 2.  , 3.25, 1.5 , 0.  , 2, 0)\n",
      " (b'pizza', 0.75 , 1.  , 1. , 0.5 , 1.  , 2.25, 1.  , 0.  , 0, 0)\n",
      " (b'bagel', 1.   , 0.  , 1.5, 1.  , 0.  , 3.  , 2.25, 0.  , 0, 0)\n",
      " (b'pretzel', 1.25 , 1.  , 2. , 1.  , 0.  , 3.5 , 3.  , 0.  , 0, 1)\n",
      " (b'egg', 0.75 , 1.5 , 2. , 1.5 , 3.  , 3.  , 2.25, 0.  , 0, 1)\n",
      " (b'milk', 1.   , 2.  , 0.5, 1.5 , 5.33, 3.  , 1.75, 0.  , 0, 0)\n",
      " (b'foccacia', 1.   , 5.33, 2. , 1.  , 0.  , 3.  , 1.5 , 0.  , 1, 0)\n",
      " (b'rolls', 0.75 , 3.  , 3. , 1.  , 0.  , 3.25, 1.5 , 0.  , 0, 1)]\n"
     ]
    }
   ],
   "source": [
    "print(data1)"
   ]
  },
  {
   "cell_type": "code",
   "execution_count": 12,
   "metadata": {},
   "outputs": [
    {
     "data": {
      "text/plain": [
       "(11,)"
      ]
     },
     "execution_count": 12,
     "metadata": {},
     "output_type": "execute_result"
    }
   ],
   "source": [
    "np.shape(data1)"
   ]
  },
  {
   "cell_type": "code",
   "execution_count": 13,
   "metadata": {},
   "outputs": [
    {
     "data": {
      "text/plain": [
       "(b'French', 1.125, 0., 1.5, 1., 0., 3.5, 2., 0., 0, 0)"
      ]
     },
     "execution_count": 13,
     "metadata": {},
     "output_type": "execute_result"
    }
   ],
   "source": [
    "data1[1] #reading the second column"
   ]
  },
  {
   "cell_type": "code",
   "execution_count": 21,
   "metadata": {},
   "outputs": [
    {
     "name": "stderr",
     "output_type": "stream",
     "text": [
      "C:\\Users\\lavan\\Anaconda3\\lib\\site-packages\\ipykernel_launcher.py:1: VisibleDeprecationWarning: Reading unicode strings without specifying the encoding argument is deprecated. Set the encoding, use None for the system default.\n",
      "  \"\"\"Entry point for launching an IPython kernel.\n"
     ]
    }
   ],
   "source": [
    "data2=np.genfromtxt(file,delimiter=',', names=None ,dtype=None) #names tells us there is a header"
   ]
  },
  {
   "cell_type": "code",
   "execution_count": 17,
   "metadata": {},
   "outputs": [
    {
     "name": "stdout",
     "output_type": "stream",
     "text": [
      "[[b'dough' b'water' b'oil' b'sugar' b'salt' b'dry milk' b'flour' b'yeast'\n",
      "  b'wheat' b'oregano' b'eggs']\n",
      " [b'white' b'1' b'2' b'2' b'1.25' b'1.5' b'3' b'2' b'0' b'0' b'0']\n",
      " [b'French' b'1.125' b'0' b'1.5' b'1' b'0' b'3.5' b'2' b'0' b'0' b'0']\n",
      " [b'wheat' b'1.5' b'2' b'2' b'2' b'0' b'3' b'2.25' b'0.75' b'0' b'0']\n",
      " [b'Italian' b'1.125' b'2' b'3' b'1.5' b'2' b'3.25' b'1.5' b'0' b'2' b'0']\n",
      " [b'pizza' b'0.75' b'1' b'1' b'0.5' b'1' b'2.25' b'1' b'0' b'0' b'0']\n",
      " [b'bagel' b'1' b'0' b'1.5' b'1' b'0' b'3' b'2.25' b'0' b'0' b'0']\n",
      " [b'pretzel' b'1.25' b'1' b'2' b'1' b'0' b'3.5' b'3' b'0' b'0' b'1']\n",
      " [b'egg' b'0.75' b'1.5' b'2' b'1.5' b'3' b'3' b'2.25' b'0' b'0' b'1']\n",
      " [b'milk' b'1' b'2' b'0.5' b'1.5' b'5.33' b'3' b'1.75' b'0' b'0' b'0']\n",
      " [b'foccacia' b'1' b'5.33' b'2' b'1' b'0' b'3' b'1.5' b'0' b'1' b'0']\n",
      " [b'rolls' b'0.75' b'3' b'3' b'1' b'0' b'3.25' b'1.5' b'0' b'0' b'1']]\n"
     ]
    }
   ],
   "source": [
    "print(data2)"
   ]
  },
  {
   "cell_type": "code",
   "execution_count": 18,
   "metadata": {},
   "outputs": [
    {
     "data": {
      "text/plain": [
       "(12, 11)"
      ]
     },
     "execution_count": 18,
     "metadata": {},
     "output_type": "execute_result"
    }
   ],
   "source": [
    "np.shape(data2)"
   ]
  },
  {
   "cell_type": "markdown",
   "metadata": {},
   "source": [
    "There is also another function np.recfromcsv() that behaves similarly to np.genfromtxt(), except that its default dtype is None. It has the defaults delimiter=',' and names=True in addition to dtype=None!"
   ]
  },
  {
   "cell_type": "code",
   "execution_count": 19,
   "metadata": {},
   "outputs": [
    {
     "name": "stdout",
     "output_type": "stream",
     "text": [
      "[(b'white', 1.   , 2.  , 2. , 1.25, 1.5 , 3.  , 2.  , 0.  , 0, 0)\n",
      " (b'French', 1.125, 0.  , 1.5, 1.  , 0.  , 3.5 , 2.  , 0.  , 0, 0)\n",
      " (b'wheat', 1.5  , 2.  , 2. , 2.  , 0.  , 3.  , 2.25, 0.75, 0, 0)\n",
      " (b'Italian', 1.125, 2.  , 3. , 1.5 , 2.  , 3.25, 1.5 , 0.  , 2, 0)\n",
      " (b'pizza', 0.75 , 1.  , 1. , 0.5 , 1.  , 2.25, 1.  , 0.  , 0, 0)\n",
      " (b'bagel', 1.   , 0.  , 1.5, 1.  , 0.  , 3.  , 2.25, 0.  , 0, 0)\n",
      " (b'pretzel', 1.25 , 1.  , 2. , 1.  , 0.  , 3.5 , 3.  , 0.  , 0, 1)\n",
      " (b'egg', 0.75 , 1.5 , 2. , 1.5 , 3.  , 3.  , 2.25, 0.  , 0, 1)\n",
      " (b'milk', 1.   , 2.  , 0.5, 1.5 , 5.33, 3.  , 1.75, 0.  , 0, 0)\n",
      " (b'foccacia', 1.   , 5.33, 2. , 1.  , 0.  , 3.  , 1.5 , 0.  , 1, 0)\n",
      " (b'rolls', 0.75 , 3.  , 3. , 1.  , 0.  , 3.25, 1.5 , 0.  , 0, 1)]\n"
     ]
    },
    {
     "name": "stderr",
     "output_type": "stream",
     "text": [
      "C:\\Users\\lavan\\Anaconda3\\lib\\site-packages\\numpy\\lib\\npyio.py:2278: VisibleDeprecationWarning: Reading unicode strings without specifying the encoding argument is deprecated. Set the encoding, use None for the system default.\n",
      "  output = genfromtxt(fname, **kwargs)\n"
     ]
    }
   ],
   "source": [
    "data3=np.recfromcsv(file)\n",
    "print(data3)"
   ]
  },
  {
   "cell_type": "code",
   "execution_count": null,
   "metadata": {},
   "outputs": [],
   "source": []
  }
 ],
 "metadata": {
  "kernelspec": {
   "display_name": "Python 3",
   "language": "python",
   "name": "python3"
  },
  "language_info": {
   "codemirror_mode": {
    "name": "ipython",
    "version": 3
   },
   "file_extension": ".py",
   "mimetype": "text/x-python",
   "name": "python",
   "nbconvert_exporter": "python",
   "pygments_lexer": "ipython3",
   "version": "3.7.3"
  }
 },
 "nbformat": 4,
 "nbformat_minor": 2
}
