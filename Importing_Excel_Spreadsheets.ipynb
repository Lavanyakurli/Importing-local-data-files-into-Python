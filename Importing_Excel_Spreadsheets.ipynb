{
 "cells": [
  {
   "cell_type": "code",
   "execution_count": 1,
   "metadata": {},
   "outputs": [
    {
     "name": "stdout",
     "output_type": "stream",
     "text": [
      " Volume in drive C is OS\n",
      " Volume Serial Number is 4A61-1FEC\n",
      "\n",
      " Directory of C:\\Users\\lavan\\Desktop\\MIS_COURSEWORK\\jupyter notebook\n",
      "\n",
      "04/05/2019  01:23 AM    <DIR>          .\n",
      "04/05/2019  01:23 AM    <DIR>          ..\n",
      "04/04/2019  01:22 PM    <DIR>          .ipynb_checkpoints\n",
      "04/04/2019  01:21 PM            11,416 airport.xlsx\n",
      "04/01/2019  05:20 PM               451 bread.txt\n",
      "04/03/2019  06:19 PM             2,363 hanks.txt\n",
      "04/04/2019  11:31 AM               272 hanks_modified.txt\n",
      "03/31/2018  06:05 PM             3,587 HousePrices.csv\n",
      "04/04/2019  03:20 PM            13,789 Importing_Excel_Spreadsheets.ipynb\n",
      "03/29/2019  02:33 PM             3,101 Load_text_Files.ipynb\n",
      "04/04/2019  11:43 AM            16,511 Loading_FlatFile_AS_A_PandasDataframe.ipynb\n",
      "04/01/2019  06:27 PM            23,784 Loading_FlatFilesAsNumpyArrays.ipynb\n",
      "04/04/2019  01:34 PM               797 Pickled Files\n",
      "03/12/2019  01:59 PM                51 Test_Text_File.txt\n",
      "03/04/2019  04:19 PM             1,120 Untitled.ipynb\n",
      "              12 File(s)         77,242 bytes\n",
      "               3 Dir(s)  307,804,188,672 bytes free\n"
     ]
    }
   ],
   "source": [
    "ls"
   ]
  },
  {
   "cell_type": "code",
   "execution_count": 1,
   "metadata": {},
   "outputs": [],
   "source": [
    "import pandas as pd"
   ]
  },
  {
   "cell_type": "code",
   "execution_count": 2,
   "metadata": {},
   "outputs": [],
   "source": [
    "file='airport.xlsx'"
   ]
  },
  {
   "cell_type": "code",
   "execution_count": 12,
   "metadata": {},
   "outputs": [
    {
     "name": "stdout",
     "output_type": "stream",
     "text": [
      "odict_keys(['airport', 'Test_Sheet'])\n"
     ]
    }
   ],
   "source": [
    "print(data1.keys())"
   ]
  },
  {
   "cell_type": "code",
   "execution_count": 5,
   "metadata": {},
   "outputs": [],
   "source": [
    "data=pd.ExcelFile(file)"
   ]
  },
  {
   "cell_type": "code",
   "execution_count": 6,
   "metadata": {},
   "outputs": [
    {
     "name": "stdout",
     "output_type": "stream",
     "text": [
      "['airport', 'Test_Sheet']\n"
     ]
    }
   ],
   "source": [
    "print(data.sheet_names) #to see the different sheets of the excel workbook"
   ]
  },
  {
   "cell_type": "code",
   "execution_count": 5,
   "metadata": {},
   "outputs": [],
   "source": [
    "df1=data.parse('airport') #passing sheet name as a string"
   ]
  },
  {
   "cell_type": "code",
   "execution_count": 53,
   "metadata": {
    "collapsed": true
   },
   "outputs": [
    {
     "name": "stdout",
     "output_type": "stream",
     "text": [
      "                            CITY STATE ABREV    PASS95    PASS85\n",
      "0                        Chicago    IL   ORD  29885987  21510371\n",
      "1                        Atlanta    GA   ATL  27556894  20678095\n",
      "2              Dallas/Ft. Worth     TX   DFW  25963950  17715224\n",
      "3                    Los Angeles    CA   LAX  21072273  15957127\n",
      "4                  San Francisco   CA    SFO  15013265  10948098\n",
      "5                         Denver    CO   DEN  14328457  13862996\n",
      "6                        Phoenix   AZ    PHX  13557883   6713293\n",
      "7                        Detroit    MI   DTW  13293568   7163840\n",
      "8                      St. Louis    MO   STL  12736060   9555195\n",
      "9                      Las Vegas    NV   LAS  12657051   4627078\n",
      "10                         Miami   FL    MIA  12030812   7717685\n",
      "11                        Newark    NJ   EWR  11899633  14272558\n",
      "12  Minneapolis/St. Paul    MN      MN   MSP  11835783   7250302\n",
      "13                       Houston    TX   IAH  10950826   6307582\n",
      "14                Seattle/Tacoma    WA   SEA  10731233   5709488\n",
      "15                        Boston    MA   BOS  10507611   9112901\n",
      "16                      New York    NY   LGA   9682171   9613913\n",
      "17                     Charlotte    NC   CLT   9588900   5102703\n",
      "18                      New York    NY   JFK   9283314  10052007\n",
      "19                    Pittsburgh    PA   PIT   9209903   7002343\n"
     ]
    }
   ],
   "source": [
    "print(df1)"
   ]
  },
  {
   "cell_type": "code",
   "execution_count": 54,
   "metadata": {},
   "outputs": [],
   "source": [
    "df2=data.parse(0) # passing sheet as a index means takes the first sheet"
   ]
  },
  {
   "cell_type": "code",
   "execution_count": 46,
   "metadata": {},
   "outputs": [],
   "source": [
    "df4=data.parse(0,names=['City','State','Code'],usecols=2)\n",
    "#in use cols if you are passing an int specify the last col number you wanted to pass or usecols=[0,1,2] or usecols (\"A:C\")"
   ]
  },
  {
   "cell_type": "code",
   "execution_count": 47,
   "metadata": {},
   "outputs": [
    {
     "name": "stdout",
     "output_type": "stream",
     "text": [
      "                City State Code\n",
      "0            Chicago    IL  ORD\n",
      "1            Atlanta    GA  ATL\n",
      "2  Dallas/Ft. Worth     TX  DFW\n",
      "3        Los Angeles    CA  LAX\n",
      "4      San Francisco   CA   SFO\n"
     ]
    }
   ],
   "source": [
    "print(df4.head())"
   ]
  },
  {
   "cell_type": "code",
   "execution_count": 16,
   "metadata": {},
   "outputs": [
    {
     "name": "stdout",
     "output_type": "stream",
     "text": [
      "Index(['CITY', 'STATE', 'ABREV', 'PASS95', 'PASS85'], dtype='object')\n"
     ]
    }
   ],
   "source": [
    "#Notice the difference between data1.keys() and data2.keys()\n",
    "#if sheet_name is set to none and printing the keys would give all the sheet_names of the excel file\n",
    "#if sheet_name is set to default printing the keys would give the columns of the first sheet\n",
    "data1=pd.read_excel(file)\n",
    "print(data1.keys())"
   ]
  },
  {
   "cell_type": "code",
   "execution_count": 17,
   "metadata": {},
   "outputs": [
    {
     "name": "stdout",
     "output_type": "stream",
     "text": [
      "odict_keys(['airport', 'Test_Sheet'])\n",
      "                CITY STATE ABREV    PASS95    PASS85\n",
      "0            Chicago    IL   ORD  29885987  21510371\n",
      "1            Atlanta    GA   ATL  27556894  20678095\n",
      "2  Dallas/Ft. Worth     TX   DFW  25963950  17715224\n",
      "3        Los Angeles    CA   LAX  21072273  15957127\n",
      "4      San Francisco   CA    SFO  15013265  10948098\n"
     ]
    }
   ],
   "source": [
    "data2=pd.read_excel(file, sheet_name=None)\n",
    "print(data2.keys())\n",
    "print(data2['airport'].head())"
   ]
  },
  {
   "cell_type": "code",
   "execution_count": null,
   "metadata": {},
   "outputs": [],
   "source": []
  }
 ],
 "metadata": {
  "kernelspec": {
   "display_name": "Python 3",
   "language": "python",
   "name": "python3"
  },
  "language_info": {
   "codemirror_mode": {
    "name": "ipython",
    "version": 3
   },
   "file_extension": ".py",
   "mimetype": "text/x-python",
   "name": "python",
   "nbconvert_exporter": "python",
   "pygments_lexer": "ipython3",
   "version": "3.7.3"
  }
 },
 "nbformat": 4,
 "nbformat_minor": 2
}
