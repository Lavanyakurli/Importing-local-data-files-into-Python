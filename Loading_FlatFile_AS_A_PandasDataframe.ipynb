{
 "cells": [
  {
   "cell_type": "code",
   "execution_count": 1,
   "metadata": {},
   "outputs": [
    {
     "name": "stdout",
     "output_type": "stream",
     "text": [
      " Volume in drive C is OS\n",
      " Volume Serial Number is 4A61-1FEC\n",
      "\n",
      " Directory of C:\\Users\\lavan\\Desktop\\MIS_COURSEWORK\\jupyter notebook\n",
      "\n",
      "04/04/2019  09:42 AM    <DIR>          .\n",
      "04/04/2019  09:42 AM    <DIR>          ..\n",
      "04/01/2019  06:17 PM    <DIR>          .ipynb_checkpoints\n",
      "04/01/2019  05:20 PM               451 bread.txt\n",
      "04/03/2019  06:19 PM             2,363 hanks.txt\n",
      "03/31/2018  06:05 PM             3,587 HousePrices.csv\n",
      "03/29/2019  02:33 PM             3,101 Load_text_Files.ipynb\n",
      "04/04/2019  09:42 AM            17,876 Loading_FlatFile_AS_A_PandasDataframe.ipynb\n",
      "04/01/2019  06:27 PM            23,784 Loading_FlatFilesAsNumpyArrays.ipynb\n",
      "03/12/2019  01:59 PM                51 Test_Text_File.txt\n",
      "03/04/2019  04:19 PM             1,120 Untitled.ipynb\n",
      "               8 File(s)         52,333 bytes\n",
      "               3 Dir(s)  320,830,885,888 bytes free\n"
     ]
    }
   ],
   "source": [
    "ls"
   ]
  },
  {
   "cell_type": "code",
   "execution_count": 2,
   "metadata": {},
   "outputs": [],
   "source": [
    "import pandas as pd"
   ]
  },
  {
   "cell_type": "code",
   "execution_count": 11,
   "metadata": {},
   "outputs": [],
   "source": [
    "file='HousePrices.csv'"
   ]
  },
  {
   "cell_type": "code",
   "execution_count": 12,
   "metadata": {},
   "outputs": [],
   "source": [
    "df=pd.read_csv(file) #reading the file and assigning it to a variable df"
   ]
  },
  {
   "cell_type": "code",
   "execution_count": 5,
   "metadata": {},
   "outputs": [
    {
     "name": "stdout",
     "output_type": "stream",
     "text": [
      "    Price  SqFt  Bedrooms  Bathrooms  Offers Brick Neighborhood\n",
      "0  114300  1790         2          2       2    No         East\n",
      "1  114200  2030         4          2       3    No         East\n",
      "2  114800  1740         3          2       1    No         East\n",
      "3   94700  1980         3          2       3    No         East\n",
      "4  119800  2130         3          3       3    No         East\n"
     ]
    }
   ],
   "source": [
    "print(df.head()) #to print the first 5 lines includong header"
   ]
  },
  {
   "cell_type": "code",
   "execution_count": 6,
   "metadata": {},
   "outputs": [
    {
     "name": "stdout",
     "output_type": "stream",
     "text": [
      "<bound method NDFrame.head of       Price  SqFt  Bedrooms  Bathrooms  Offers Brick Neighborhood\n",
      "0    114300  1790         2          2       2    No         East\n",
      "1    114200  2030         4          2       3    No         East\n",
      "2    114800  1740         3          2       1    No         East\n",
      "3     94700  1980         3          2       3    No         East\n",
      "4    119800  2130         3          3       3    No         East\n",
      "5    114600  1780         3          2       2    No        North\n",
      "6    151600  1830         3          3       3   Yes         West\n",
      "7    150700  2160         4          2       2    No         West\n",
      "8    119200  2110         4          2       3    No         East\n",
      "9    104000  1730         3          3       3    No         East\n",
      "10   132500  2030         3          2       3   Yes         East\n",
      "11   123000  1870         2          2       2   Yes         East\n",
      "12   102600  1910         3          2       4    No        North\n",
      "13   126300  2150         3          3       5   Yes        North\n",
      "14   176800  2590         4          3       4    No         West\n",
      "15   145800  1780         4          2       1    No         West\n",
      "16   147100  2190         3          3       4   Yes         East\n",
      "17    83600  1990         3          3       4    No        North\n",
      "18   111400  1700         2          2       1   Yes         East\n",
      "19   167200  1920         3          3       2   Yes         West\n",
      "20   116200  1790         3          2       3    No         East\n",
      "21   113800  2000         3          2       4    No        North\n",
      "22    91700  1690         3          2       3    No        North\n",
      "23   106100  1820         3          2       3   Yes        North\n",
      "24   156400  2210         4          3       2   Yes         East\n",
      "25   149300  2290         4          3       3    No        North\n",
      "26   137000  2000         4          2       3    No         West\n",
      "27    99300  1700         3          2       2    No         East\n",
      "28    69100  1600         2          2       3    No        North\n",
      "29   188000  2040         4          3       1   Yes         West\n",
      "..      ...   ...       ...        ...     ...   ...          ...\n",
      "98   145500  2060         3          2       1    No         West\n",
      "99   171000  2080         3          3       2   Yes         West\n",
      "100  103200  2010         3          2       5    No        North\n",
      "101  123100  2260         3          3       5    No         East\n",
      "102  136800  2410         3          3       4    No         East\n",
      "103  211200  2440         4          3       3   Yes         West\n",
      "104   82300  1910         3          2       4    No         East\n",
      "105  146900  2530         4          3       4    No         West\n",
      "106  108500  2130         3          2       4    No        North\n",
      "107  134000  1890         3          2       1   Yes         East\n",
      "108  117000  1990         3          3       3   Yes         East\n",
      "109  108700  2110         3          2       3    No         East\n",
      "110  111600  1710         2          2       1    No        North\n",
      "111  114900  1740         2          2       2    No        North\n",
      "112  123600  1940         2          2       2   Yes         East\n",
      "113  115700  2000         3          2       3   Yes        North\n",
      "114  124500  2010         4          3       2    No         East\n",
      "115  102500  1900         3          3       3    No        North\n",
      "116  199500  2290         5          4       1   Yes         West\n",
      "117  117800  1920         3          2       2    No        North\n",
      "118  150200  1950         3          2       3   Yes        North\n",
      "119  109700  1920         2          2       4    No        North\n",
      "120  110400  1930         2          3       3    No        North\n",
      "121  105600  1930         3          3       3    No         East\n",
      "122  144800  2060         2          2       1   Yes         East\n",
      "123  119700  1900         3          3       3   Yes         East\n",
      "124  147900  2160         4          3       3   Yes         East\n",
      "125  113500  2070         2          2       2    No        North\n",
      "126  149900  2020         3          3       1    No         West\n",
      "127  124600  2250         3          3       4    No        North\n",
      "\n",
      "[128 rows x 7 columns]>\n"
     ]
    }
   ],
   "source": [
    "print(df.head) # Notice the difference between df.head and df.head()"
   ]
  },
  {
   "cell_type": "code",
   "execution_count": 15,
   "metadata": {},
   "outputs": [],
   "source": [
    "data=pd.read_csv(file, nrows=5, header=0) "
   ]
  },
  {
   "cell_type": "code",
   "execution_count": 16,
   "metadata": {},
   "outputs": [
    {
     "name": "stdout",
     "output_type": "stream",
     "text": [
      "    Price  SqFt  Bedrooms  Bathrooms  Offers Brick Neighborhood\n",
      "0  114300  1790         2          2       2    No         East\n",
      "1  114200  2030         4          2       3    No         East\n",
      "2  114800  1740         3          2       1    No         East\n",
      "3   94700  1980         3          2       3    No         East\n",
      "4  119800  2130         3          3       3    No         East\n"
     ]
    }
   ],
   "source": [
    "print(data)"
   ]
  },
  {
   "cell_type": "code",
   "execution_count": 22,
   "metadata": {},
   "outputs": [
    {
     "name": "stdout",
     "output_type": "stream",
     "text": [
      "0    114300\n",
      "1    114200\n",
      "2    114800\n",
      "3     94700\n",
      "4    119800\n",
      "Name: Price, dtype: int64\n"
     ]
    }
   ],
   "source": [
    "print(data[\"Price\"]) #reading a particular column of a dataframe as a series"
   ]
  },
  {
   "cell_type": "code",
   "execution_count": 19,
   "metadata": {},
   "outputs": [
    {
     "data": {
      "text/plain": [
       "pandas.core.series.Series"
      ]
     },
     "execution_count": 19,
     "metadata": {},
     "output_type": "execute_result"
    }
   ],
   "source": [
    "type(data[\"Price\"])"
   ]
  },
  {
   "cell_type": "code",
   "execution_count": 23,
   "metadata": {},
   "outputs": [
    {
     "name": "stdout",
     "output_type": "stream",
     "text": [
      "    Price  SqFt\n",
      "0  114300  1790\n",
      "1  114200  2030\n",
      "2  114800  1740\n",
      "3   94700  1980\n",
      "4  119800  2130\n"
     ]
    }
   ],
   "source": [
    "print(data[[\"Price\"]]) # Reading column of a dataframe as dataframe"
   ]
  },
  {
   "cell_type": "code",
   "execution_count": 20,
   "metadata": {},
   "outputs": [
    {
     "data": {
      "text/plain": [
       "pandas.core.frame.DataFrame"
      ]
     },
     "execution_count": 20,
     "metadata": {},
     "output_type": "execute_result"
    }
   ],
   "source": [
    "type(data[[\"Price\"]])"
   ]
  },
  {
   "cell_type": "code",
   "execution_count": 24,
   "metadata": {},
   "outputs": [
    {
     "name": "stdout",
     "output_type": "stream",
     "text": [
      "    Price  SqFt\n",
      "0  114300  1790\n",
      "1  114200  2030\n",
      "2  114800  1740\n",
      "3   94700  1980\n",
      "4  119800  2130\n"
     ]
    }
   ],
   "source": [
    "print(data[[\"Price\",\"SqFt\"]])"
   ]
  },
  {
   "cell_type": "code",
   "execution_count": 27,
   "metadata": {},
   "outputs": [
    {
     "name": "stdout",
     "output_type": "stream",
     "text": [
      "    Price  SqFt  Bedrooms  Bathrooms  Offers Brick Neighborhood\n",
      "0  114300  1790         2          2       2    No         East\n",
      "1  114200  2030         4          2       3    No         East\n",
      "2  114800  1740         3          2       1    No         East\n",
      "3   94700  1980         3          2       3    No         East\n"
     ]
    }
   ],
   "source": [
    "print(data[0:4]) "
   ]
  },
  {
   "cell_type": "code",
   "execution_count": 26,
   "metadata": {},
   "outputs": [
    {
     "data": {
      "text/plain": [
       "pandas.core.frame.DataFrame"
      ]
     },
     "execution_count": 26,
     "metadata": {},
     "output_type": "execute_result"
    }
   ],
   "source": [
    "type(data[1:4])"
   ]
  },
  {
   "cell_type": "code",
   "execution_count": 28,
   "metadata": {},
   "outputs": [
    {
     "name": "stdout",
     "output_type": "stream",
     "text": [
      "    Price  SqFt  Bedrooms  Bathrooms  Offers Brick Neighborhood\n",
      "0  114300  1790         2          2       2    No         East\n",
      "1  114200  2030         4          2       3    No         East\n"
     ]
    }
   ],
   "source": [
    "print(data.iloc[[0,1]]) # accessing the rows of a dataframe using the indexes"
   ]
  },
  {
   "cell_type": "code",
   "execution_count": 30,
   "metadata": {},
   "outputs": [
    {
     "name": "stdout",
     "output_type": "stream",
     "text": [
      "   SqFt  Bedrooms  Bathrooms\n",
      "1  2030         4          2\n"
     ]
    }
   ],
   "source": [
    "print(data.iloc[[1],[1,2,3]]) #Accessing particular rows and columns of a dataframe using indexing"
   ]
  },
  {
   "cell_type": "code",
   "execution_count": 32,
   "metadata": {},
   "outputs": [
    {
     "name": "stdout",
     "output_type": "stream",
     "text": [
      "    Price  SqFt  Bedrooms Brick\n",
      "0  114300  1790         2    No\n",
      "1  114200  2030         4    No\n",
      "2  114800  1740         3    No\n",
      "3   94700  1980         3    No\n",
      "4  119800  2130         3    No\n"
     ]
    }
   ],
   "source": [
    "print(data.iloc[:,[0,1,2,5]]) #accessing all the rows and particular columns of a dataframe using indexing"
   ]
  },
  {
   "cell_type": "code",
   "execution_count": 48,
   "metadata": {},
   "outputs": [],
   "source": [
    "TextFile='hanks_modified.txt'"
   ]
  },
  {
   "cell_type": "code",
   "execution_count": 49,
   "metadata": {},
   "outputs": [
    {
     "name": "stdout",
     "output_type": "stream",
     "text": [
      "                 Title  Year  Length MPAA  Action  Drama  Humor   Sex  \\\n",
      "0  Saving Private Ryan  1998     160    R      10     10      4     0   \n",
      "1   That Thing You Do!  1996     110   PG       3      6      4     1   \n",
      "2            Apollo 13  1995     140   PG       6      8      4  Null   \n",
      "3            Toy Story  1995      80    G       8      2     10     0   \n",
      "\n",
      "   Violence  Suspense             Offbeat  \n",
      "0        10         8  4#comments to test  \n",
      "1         1         2  0#comments to test  \n",
      "2         2         9                   2  \n",
      "3         1         5                   3  \n"
     ]
    }
   ],
   "source": [
    "df1=pd.read_csv(TextFile, sep='\\t') # sep is to specify the seperator/delimiter, here the file is tab delimited. na_values takes a list of strings to recognize as NA/NaN\n",
    "print(df1.head())"
   ]
  },
  {
   "cell_type": "code",
   "execution_count": 50,
   "metadata": {},
   "outputs": [],
   "source": [
    "df1=pd.read_csv(TextFile, sep='\\t', comment='#',na_values='Null') #Values that appear after # in any cell are treated as comments and do not appear when printing the dataframe since comment character is specified as #"
   ]
  },
  {
   "cell_type": "code",
   "execution_count": 36,
   "metadata": {},
   "outputs": [
    {
     "name": "stdout",
     "output_type": "stream",
     "text": [
      "                 Title  Year  Length MPAA  Action  Drama  Humor  Sex  \\\n",
      "0  Saving Private Ryan  1998     160    R      10     10      4    0   \n",
      "1   That Thing You Do!  1996     110   PG       3      6      4    1   \n",
      "2            Apollo 13  1995     140   PG       6      8      4    0   \n",
      "3            Toy Story  1995      80    G       8      2     10    0   \n",
      "\n",
      "   Violence  Suspense  Offbeat  \n",
      "0        10         8        4  \n",
      "1         1         2        0  \n",
      "2         2         9        2  \n",
      "3         1         5        3  \n"
     ]
    }
   ],
   "source": [
    "print(df1.head())"
   ]
  },
  {
   "cell_type": "code",
   "execution_count": 51,
   "metadata": {},
   "outputs": [
    {
     "data": {
      "text/plain": [
       "pandas.core.frame.DataFrame"
      ]
     },
     "execution_count": 51,
     "metadata": {},
     "output_type": "execute_result"
    }
   ],
   "source": [
    "type(df1.head())"
   ]
  },
  {
   "cell_type": "code",
   "execution_count": 52,
   "metadata": {},
   "outputs": [
    {
     "name": "stdout",
     "output_type": "stream",
     "text": [
      "                 Title\n",
      "0  Saving Private Ryan\n"
     ]
    }
   ],
   "source": [
    "print(df1.iloc[[0],[0]])"
   ]
  },
  {
   "cell_type": "code",
   "execution_count": null,
   "metadata": {},
   "outputs": [],
   "source": []
  }
 ],
 "metadata": {
  "kernelspec": {
   "display_name": "Python 3",
   "language": "python",
   "name": "python3"
  },
  "language_info": {
   "codemirror_mode": {
    "name": "ipython",
    "version": 3
   },
   "file_extension": ".py",
   "mimetype": "text/x-python",
   "name": "python",
   "nbconvert_exporter": "python",
   "pygments_lexer": "ipython3",
   "version": "3.7.1"
  }
 },
 "nbformat": 4,
 "nbformat_minor": 2
}
