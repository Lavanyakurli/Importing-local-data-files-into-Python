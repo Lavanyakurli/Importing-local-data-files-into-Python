{
 "cells": [
  {
   "cell_type": "code",
   "execution_count": 1,
   "metadata": {},
   "outputs": [
    {
     "name": "stdout",
     "output_type": "stream",
     "text": [
      " Volume in drive C is OS\n",
      " Volume Serial Number is 4A61-1FEC\n",
      "\n",
      " Directory of C:\\Users\\lavan\\Desktop\\MIS_COURSEWORK\\jupyter notebook\n",
      "\n",
      "03/29/2019  02:21 PM    <DIR>          .\n",
      "03/29/2019  02:21 PM    <DIR>          ..\n",
      "03/29/2019  02:21 PM    <DIR>          .ipynb_checkpoints\n",
      "03/12/2019  01:59 PM                51 Test_Text_File.txt\n",
      "03/04/2019  04:19 PM             1,120 Untitled.ipynb\n",
      "03/29/2019  02:21 PM                72 Untitled1.ipynb\n",
      "               3 File(s)          1,243 bytes\n",
      "               3 Dir(s)  315,792,003,072 bytes free\n"
     ]
    }
   ],
   "source": [
    "ls"
   ]
  },
  {
   "cell_type": "code",
   "execution_count": 2,
   "metadata": {},
   "outputs": [
    {
     "name": "stdout",
     "output_type": "stream",
     "text": [
      "Lean Six-Sigma Certifications\n",
      "IASSC\n",
      "Gemba Academy\n",
      "False\n"
     ]
    }
   ],
   "source": [
    "file=open('Test_Text_File.txt',mode='r') # open a file in a read mode from the current working directory\n",
    "print(file.read())             #print the entire content of the file\n",
    "print(file.closed)             #its always a good practise to close the file, checking if the opened file is closed or not"
   ]
  },
  {
   "cell_type": "code",
   "execution_count": 3,
   "metadata": {},
   "outputs": [],
   "source": [
    "file.close()              # closing the file"
   ]
  },
  {
   "cell_type": "code",
   "execution_count": 4,
   "metadata": {},
   "outputs": [
    {
     "name": "stdout",
     "output_type": "stream",
     "text": [
      "True\n"
     ]
    }
   ],
   "source": [
    "print(file.closed)        #checking if the file is closed or not"
   ]
  },
  {
   "cell_type": "code",
   "execution_count": 8,
   "metadata": {},
   "outputs": [
    {
     "name": "stdout",
     "output_type": "stream",
     "text": [
      "Lean Six-Sigma Certifications\n",
      "\n",
      "IASSC\n",
      "\n"
     ]
    }
   ],
   "source": [
    "with open('Test_Text_File.txt') as file: # using with context manager and the variable file, you need not worry about closing the file\n",
    "    print(file.readline())         #reads the firstline alone\n",
    "    print(file.readline())         #reads the nextline"
   ]
  },
  {
   "cell_type": "code",
   "execution_count": null,
   "metadata": {},
   "outputs": [],
   "source": []
  }
 ],
 "metadata": {
  "kernelspec": {
   "display_name": "Python 3",
   "language": "python",
   "name": "python3"
  },
  "language_info": {
   "codemirror_mode": {
    "name": "ipython",
    "version": 3
   },
   "file_extension": ".py",
   "mimetype": "text/x-python",
   "name": "python",
   "nbconvert_exporter": "python",
   "pygments_lexer": "ipython3",
   "version": "3.7.1"
  }
 },
 "nbformat": 4,
 "nbformat_minor": 2
}
